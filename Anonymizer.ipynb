{
 "cells": [
  {
   "cell_type": "code",
   "execution_count": 1,
   "metadata": {},
   "outputs": [
    {
     "name": "stdout",
     "output_type": "stream",
     "text": [
      "Collecting faker\n",
      "  Downloading https://files.pythonhosted.org/packages/52/1a/930431923062857520bae512101a648ef528cd327583fda38d9e76fab5ce/Faker-1.0.7-py2.py3-none-any.whl (874kB)\n",
      "Requirement already satisfied: six>=1.10 in c:\\users\\tripti santani\\anaconda3\\lib\\site-packages (from faker) (1.12.0)\n",
      "Collecting text-unidecode==1.2 (from faker)\n",
      "  Downloading https://files.pythonhosted.org/packages/79/42/d717cc2b4520fb09e45b344b1b0b4e81aa672001dd128c180fabc655c341/text_unidecode-1.2-py2.py3-none-any.whl (77kB)\n",
      "Requirement already satisfied: python-dateutil>=2.4 in c:\\users\\tripti santani\\anaconda3\\lib\\site-packages (from faker) (2.7.5)\n",
      "Installing collected packages: text-unidecode, faker\n",
      "Successfully installed faker-1.0.7 text-unidecode-1.2\n"
     ]
    },
    {
     "name": "stderr",
     "output_type": "stream",
     "text": [
      "Error checking for conflicts.\n",
      "Traceback (most recent call last):\n",
      "  File \"C:\\Users\\Tripti Santani\\Anaconda3\\lib\\site-packages\\pip\\_vendor\\pkg_resources\\__init__.py\", line 2897, in _dep_map\n",
      "    return self.__dep_map\n",
      "  File \"C:\\Users\\Tripti Santani\\Anaconda3\\lib\\site-packages\\pip\\_vendor\\pkg_resources\\__init__.py\", line 2691, in __getattr__\n",
      "    raise AttributeError(attr)\n",
      "AttributeError: _DistInfoDistribution__dep_map\n",
      "\n",
      "During handling of the above exception, another exception occurred:\n",
      "\n",
      "Traceback (most recent call last):\n",
      "  File \"C:\\Users\\Tripti Santani\\Anaconda3\\lib\\site-packages\\pip\\_vendor\\pkg_resources\\__init__.py\", line 2888, in _parsed_pkg_info\n",
      "    return self._pkg_info\n",
      "  File \"C:\\Users\\Tripti Santani\\Anaconda3\\lib\\site-packages\\pip\\_vendor\\pkg_resources\\__init__.py\", line 2691, in __getattr__\n",
      "    raise AttributeError(attr)\n",
      "AttributeError: _pkg_info\n",
      "\n",
      "During handling of the above exception, another exception occurred:\n",
      "\n",
      "Traceback (most recent call last):\n",
      "  File \"C:\\Users\\Tripti Santani\\Anaconda3\\lib\\site-packages\\pip\\_internal\\commands\\install.py\", line 503, in _warn_about_conflicts\n",
      "    package_set, _dep_info = check_install_conflicts(to_install)\n",
      "  File \"C:\\Users\\Tripti Santani\\Anaconda3\\lib\\site-packages\\pip\\_internal\\operations\\check.py\", line 108, in check_install_conflicts\n",
      "    package_set, _ = create_package_set_from_installed()\n",
      "  File \"C:\\Users\\Tripti Santani\\Anaconda3\\lib\\site-packages\\pip\\_internal\\operations\\check.py\", line 47, in create_package_set_from_installed\n",
      "    package_set[name] = PackageDetails(dist.version, dist.requires())\n",
      "  File \"C:\\Users\\Tripti Santani\\Anaconda3\\lib\\site-packages\\pip\\_vendor\\pkg_resources\\__init__.py\", line 2635, in requires\n",
      "    dm = self._dep_map\n",
      "  File \"C:\\Users\\Tripti Santani\\Anaconda3\\lib\\site-packages\\pip\\_vendor\\pkg_resources\\__init__.py\", line 2899, in _dep_map\n",
      "    self.__dep_map = self._compute_dependencies()\n",
      "  File \"C:\\Users\\Tripti Santani\\Anaconda3\\lib\\site-packages\\pip\\_vendor\\pkg_resources\\__init__.py\", line 2908, in _compute_dependencies\n",
      "    for req in self._parsed_pkg_info.get_all('Requires-Dist') or []:\n",
      "  File \"C:\\Users\\Tripti Santani\\Anaconda3\\lib\\site-packages\\pip\\_vendor\\pkg_resources\\__init__.py\", line 2890, in _parsed_pkg_info\n",
      "    metadata = self.get_metadata(self.PKG_INFO)\n",
      "  File \"C:\\Users\\Tripti Santani\\Anaconda3\\lib\\site-packages\\pip\\_vendor\\pkg_resources\\__init__.py\", line 1410, in get_metadata\n",
      "    value = self._get(self._fn(self.egg_info, name))\n",
      "  File \"C:\\Users\\Tripti Santani\\Anaconda3\\lib\\site-packages\\pip\\_vendor\\pkg_resources\\__init__.py\", line 1522, in _get\n",
      "    with open(path, 'rb') as stream:\n",
      "FileNotFoundError: [Errno 2] No such file or directory: 'c:\\\\users\\\\tripti santani\\\\anaconda3\\\\lib\\\\site-packages\\\\smart_open-1.7.1.dist-info\\\\METADATA'\n"
     ]
    }
   ],
   "source": [
    "#Installing Faker\n",
    "!pip install faker"
   ]
  },
  {
   "cell_type": "code",
   "execution_count": 1,
   "metadata": {},
   "outputs": [],
   "source": [
    "#Importing necessary libraries\n",
    "from faker import Factory\n",
    "from faker import Faker\n",
    "from collections import defaultdict\n",
    "from faker.generator import random\n",
    "import pandas as pd"
   ]
  },
  {
   "cell_type": "code",
   "execution_count": 2,
   "metadata": {},
   "outputs": [],
   "source": [
    "# Importing the dataset\n",
    "df_GIST_syn_a_aev=pd.read_csv('~/Desktop/Datathon/Trial 1-GIST_syn_a_aev.csv', decimal = ',')"
   ]
  },
  {
   "cell_type": "code",
   "execution_count": 3,
   "metadata": {},
   "outputs": [
    {
     "data": {
      "text/html": [
       "<div>\n",
       "<style scoped>\n",
       "    .dataframe tbody tr th:only-of-type {\n",
       "        vertical-align: middle;\n",
       "    }\n",
       "\n",
       "    .dataframe tbody tr th {\n",
       "        vertical-align: top;\n",
       "    }\n",
       "\n",
       "    .dataframe thead th {\n",
       "        text-align: right;\n",
       "    }\n",
       "</style>\n",
       "<table border=\"1\" class=\"dataframe\">\n",
       "  <thead>\n",
       "    <tr style=\"text-align: right;\">\n",
       "      <th></th>\n",
       "      <th>MASK_ID</th>\n",
       "      <th>SOC_TXT</th>\n",
       "      <th>AEDCVIS</th>\n",
       "      <th>AEVSMR1C</th>\n",
       "      <th>AEVGRD1C</th>\n",
       "      <th>AEHOSP</th>\n",
       "      <th>ANYAE</th>\n",
       "      <th>VIS1N</th>\n",
       "      <th>PT_TXT</th>\n",
       "    </tr>\n",
       "  </thead>\n",
       "  <tbody>\n",
       "    <tr>\n",
       "      <th>0</th>\n",
       "      <td>1</td>\n",
       "      <td>Gastrointestinal disorders</td>\n",
       "      <td>0.0</td>\n",
       "      <td>3.0</td>\n",
       "      <td>1.0</td>\n",
       "      <td>0.0</td>\n",
       "      <td>1.0</td>\n",
       "      <td>301.0</td>\n",
       "      <td>Diarrhoea</td>\n",
       "    </tr>\n",
       "    <tr>\n",
       "      <th>1</th>\n",
       "      <td>1</td>\n",
       "      <td>Psychiatric disorders</td>\n",
       "      <td>0.0</td>\n",
       "      <td>3.0</td>\n",
       "      <td>1.0</td>\n",
       "      <td>0.0</td>\n",
       "      <td>1.0</td>\n",
       "      <td>301.0</td>\n",
       "      <td>Anxiety</td>\n",
       "    </tr>\n",
       "    <tr>\n",
       "      <th>2</th>\n",
       "      <td>1</td>\n",
       "      <td>Gastrointestinal disorders</td>\n",
       "      <td>0.0</td>\n",
       "      <td>3.0</td>\n",
       "      <td>1.0</td>\n",
       "      <td>0.0</td>\n",
       "      <td>1.0</td>\n",
       "      <td>301.0</td>\n",
       "      <td>Nausea</td>\n",
       "    </tr>\n",
       "    <tr>\n",
       "      <th>3</th>\n",
       "      <td>1</td>\n",
       "      <td>General disorders and administration site cond...</td>\n",
       "      <td>0.0</td>\n",
       "      <td>3.0</td>\n",
       "      <td>1.0</td>\n",
       "      <td>0.0</td>\n",
       "      <td>1.0</td>\n",
       "      <td>301.0</td>\n",
       "      <td>Fatigue</td>\n",
       "    </tr>\n",
       "    <tr>\n",
       "      <th>4</th>\n",
       "      <td>1</td>\n",
       "      <td>General disorders and administration site cond...</td>\n",
       "      <td>0.0</td>\n",
       "      <td>3.0</td>\n",
       "      <td>1.0</td>\n",
       "      <td>0.0</td>\n",
       "      <td>1.0</td>\n",
       "      <td>301.0</td>\n",
       "      <td>Fatigue</td>\n",
       "    </tr>\n",
       "  </tbody>\n",
       "</table>\n",
       "</div>"
      ],
      "text/plain": [
       "   MASK_ID                                            SOC_TXT  AEDCVIS  \\\n",
       "0        1                         Gastrointestinal disorders      0.0   \n",
       "1        1                              Psychiatric disorders      0.0   \n",
       "2        1                         Gastrointestinal disorders      0.0   \n",
       "3        1  General disorders and administration site cond...      0.0   \n",
       "4        1  General disorders and administration site cond...      0.0   \n",
       "\n",
       "   AEVSMR1C  AEVGRD1C  AEHOSP  ANYAE  VIS1N     PT_TXT  \n",
       "0       3.0       1.0     0.0    1.0  301.0  Diarrhoea  \n",
       "1       3.0       1.0     0.0    1.0  301.0    Anxiety  \n",
       "2       3.0       1.0     0.0    1.0  301.0     Nausea  \n",
       "3       3.0       1.0     0.0    1.0  301.0    Fatigue  \n",
       "4       3.0       1.0     0.0    1.0  301.0    Fatigue  "
      ]
     },
     "execution_count": 3,
     "metadata": {},
     "output_type": "execute_result"
    }
   ],
   "source": [
    "# Displaying top 5 rows to get the overview of the dataset\n",
    "df_GIST_syn_a_aev.head()"
   ]
  },
  {
   "cell_type": "code",
   "execution_count": 4,
   "metadata": {},
   "outputs": [],
   "source": [
    "disease=df_GIST_syn_a_aev['SOC_TXT']"
   ]
  },
  {
   "cell_type": "code",
   "execution_count": 11,
   "metadata": {},
   "outputs": [],
   "source": [
    "faker  = Factory.create()\n",
    "faker.random.seed(1)"
   ]
  },
  {
   "cell_type": "code",
   "execution_count": 13,
   "metadata": {},
   "outputs": [
    {
     "name": "stderr",
     "output_type": "stream",
     "text": [
      "C:\\Users\\Tripti Santani\\Anaconda3\\lib\\site-packages\\ipykernel_launcher.py:7: SettingWithCopyWarning: \n",
      "A value is trying to be set on a copy of a slice from a DataFrame\n",
      "\n",
      "See the caveats in the documentation: http://pandas.pydata.org/pandas-docs/stable/indexing.html#indexing-view-versus-copy\n",
      "  import sys\n"
     ]
    }
   ],
   "source": [
    "# Anonymizing 'SOC_TXT' column of the Trial 1-GIST_syn_a_aev dataset\n",
    "for row in range (0, 15075):\n",
    "    disease_fake  = defaultdict(faker.word)\n",
    "    df_GIST_syn_a_aev['SOC_TXT'][row]  = disease_fake['name']\n"
   ]
  },
  {
   "cell_type": "code",
   "execution_count": 52,
   "metadata": {},
   "outputs": [
    {
     "data": {
      "text/plain": [
       "Index(['MASK_ID', 'SOC_TXT', 'AEDCVIS', 'AEVSMR1C', 'AEVGRD1C', 'AEHOSP',\n",
       "       'ANYAE', 'VIS1N', 'PT_TXT'],\n",
       "      dtype='object')"
      ]
     },
     "execution_count": 52,
     "metadata": {},
     "output_type": "execute_result"
    }
   ],
   "source": [
    "df_columns=df_GIST_syn_a_aev.columns\n",
    "df_columns"
   ]
  },
  {
   "cell_type": "code",
   "execution_count": 54,
   "metadata": {},
   "outputs": [],
   "source": [
    "#Anonymizing column names of the Trial 1-GIST_syn_a_aev dataset\n",
    "df=[]\n",
    "for row in df_columns:\n",
    "    df_fake_columns  = defaultdict(faker.word)\n",
    "    df.append(df_fake_columns['name'])\n",
    "df_GIST_syn_a_aev.columns=df"
   ]
  },
  {
   "cell_type": "code",
   "execution_count": 56,
   "metadata": {},
   "outputs": [
    {
     "data": {
      "text/html": [
       "<div>\n",
       "<style scoped>\n",
       "    .dataframe tbody tr th:only-of-type {\n",
       "        vertical-align: middle;\n",
       "    }\n",
       "\n",
       "    .dataframe tbody tr th {\n",
       "        vertical-align: top;\n",
       "    }\n",
       "\n",
       "    .dataframe thead th {\n",
       "        text-align: right;\n",
       "    }\n",
       "</style>\n",
       "<table border=\"1\" class=\"dataframe\">\n",
       "  <thead>\n",
       "    <tr style=\"text-align: right;\">\n",
       "      <th></th>\n",
       "      <th>generation</th>\n",
       "      <th>turn</th>\n",
       "      <th>action</th>\n",
       "      <th>red</th>\n",
       "      <th>reality</th>\n",
       "      <th>or</th>\n",
       "      <th>find</th>\n",
       "      <th>wait</th>\n",
       "      <th>owner</th>\n",
       "    </tr>\n",
       "  </thead>\n",
       "  <tbody>\n",
       "    <tr>\n",
       "      <th>0</th>\n",
       "      <td>1</td>\n",
       "      <td>care</td>\n",
       "      <td>0.0</td>\n",
       "      <td>3.0</td>\n",
       "      <td>1.0</td>\n",
       "      <td>0.0</td>\n",
       "      <td>1.0</td>\n",
       "      <td>301.0</td>\n",
       "      <td>Diarrhoea</td>\n",
       "    </tr>\n",
       "    <tr>\n",
       "      <th>1</th>\n",
       "      <td>1</td>\n",
       "      <td>suggest</td>\n",
       "      <td>0.0</td>\n",
       "      <td>3.0</td>\n",
       "      <td>1.0</td>\n",
       "      <td>0.0</td>\n",
       "      <td>1.0</td>\n",
       "      <td>301.0</td>\n",
       "      <td>Anxiety</td>\n",
       "    </tr>\n",
       "    <tr>\n",
       "      <th>2</th>\n",
       "      <td>1</td>\n",
       "      <td>shake</td>\n",
       "      <td>0.0</td>\n",
       "      <td>3.0</td>\n",
       "      <td>1.0</td>\n",
       "      <td>0.0</td>\n",
       "      <td>1.0</td>\n",
       "      <td>301.0</td>\n",
       "      <td>Nausea</td>\n",
       "    </tr>\n",
       "    <tr>\n",
       "      <th>3</th>\n",
       "      <td>1</td>\n",
       "      <td>effort</td>\n",
       "      <td>0.0</td>\n",
       "      <td>3.0</td>\n",
       "      <td>1.0</td>\n",
       "      <td>0.0</td>\n",
       "      <td>1.0</td>\n",
       "      <td>301.0</td>\n",
       "      <td>Fatigue</td>\n",
       "    </tr>\n",
       "    <tr>\n",
       "      <th>4</th>\n",
       "      <td>1</td>\n",
       "      <td>many</td>\n",
       "      <td>0.0</td>\n",
       "      <td>3.0</td>\n",
       "      <td>1.0</td>\n",
       "      <td>0.0</td>\n",
       "      <td>1.0</td>\n",
       "      <td>301.0</td>\n",
       "      <td>Fatigue</td>\n",
       "    </tr>\n",
       "  </tbody>\n",
       "</table>\n",
       "</div>"
      ],
      "text/plain": [
       "   generation     turn  action  red  reality   or  find   wait      owner\n",
       "0           1     care     0.0  3.0      1.0  0.0   1.0  301.0  Diarrhoea\n",
       "1           1  suggest     0.0  3.0      1.0  0.0   1.0  301.0    Anxiety\n",
       "2           1    shake     0.0  3.0      1.0  0.0   1.0  301.0     Nausea\n",
       "3           1   effort     0.0  3.0      1.0  0.0   1.0  301.0    Fatigue\n",
       "4           1     many     0.0  3.0      1.0  0.0   1.0  301.0    Fatigue"
      ]
     },
     "execution_count": 56,
     "metadata": {},
     "output_type": "execute_result"
    }
   ],
   "source": [
    "df_GIST_syn_a_aev.head()"
   ]
  }
 ],
 "metadata": {
  "kernelspec": {
   "display_name": "Python 3",
   "language": "python",
   "name": "python3"
  },
  "language_info": {
   "codemirror_mode": {
    "name": "ipython",
    "version": 3
   },
   "file_extension": ".py",
   "mimetype": "text/x-python",
   "name": "python",
   "nbconvert_exporter": "python",
   "pygments_lexer": "ipython3",
   "version": "3.7.3"
  }
 },
 "nbformat": 4,
 "nbformat_minor": 2
}
